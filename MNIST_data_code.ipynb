{
  "cells": [
    {
      "cell_type": "code",
      "source": [
        "!pip install --upgrade timetools"
      ],
      "metadata": {
        "colab": {
          "base_uri": "https://localhost:8080/"
        },
        "id": "WxNLLKqE9xAn",
        "outputId": "af5d6017-d881-4374-fb9b-22d4189158f2"
      },
      "execution_count": null,
      "outputs": [
        {
          "output_type": "stream",
          "name": "stdout",
          "text": [
            "Requirement already satisfied: timetools in /usr/local/lib/python3.10/dist-packages (0.6.0)\n",
            "Requirement already satisfied: numpy in /usr/local/lib/python3.10/dist-packages (from timetools) (1.23.5)\n",
            "Requirement already satisfied: scipy in /usr/local/lib/python3.10/dist-packages (from timetools) (1.11.4)\n",
            "Requirement already satisfied: matplotlib in /usr/local/lib/python3.10/dist-packages (from timetools) (3.7.1)\n",
            "Requirement already satisfied: contourpy>=1.0.1 in /usr/local/lib/python3.10/dist-packages (from matplotlib->timetools) (1.2.0)\n",
            "Requirement already satisfied: cycler>=0.10 in /usr/local/lib/python3.10/dist-packages (from matplotlib->timetools) (0.12.1)\n",
            "Requirement already satisfied: fonttools>=4.22.0 in /usr/local/lib/python3.10/dist-packages (from matplotlib->timetools) (4.47.0)\n",
            "Requirement already satisfied: kiwisolver>=1.0.1 in /usr/local/lib/python3.10/dist-packages (from matplotlib->timetools) (1.4.5)\n",
            "Requirement already satisfied: packaging>=20.0 in /usr/local/lib/python3.10/dist-packages (from matplotlib->timetools) (23.2)\n",
            "Requirement already satisfied: pillow>=6.2.0 in /usr/local/lib/python3.10/dist-packages (from matplotlib->timetools) (9.4.0)\n",
            "Requirement already satisfied: pyparsing>=2.3.1 in /usr/local/lib/python3.10/dist-packages (from matplotlib->timetools) (3.1.1)\n",
            "Requirement already satisfied: python-dateutil>=2.7 in /usr/local/lib/python3.10/dist-packages (from matplotlib->timetools) (2.8.2)\n",
            "Requirement already satisfied: six>=1.5 in /usr/local/lib/python3.10/dist-packages (from python-dateutil>=2.7->matplotlib->timetools) (1.16.0)\n"
          ]
        }
      ]
    },
    {
      "cell_type": "code",
      "source": [
        "!pip install timetools\n"
      ],
      "metadata": {
        "colab": {
          "base_uri": "https://localhost:8080/"
        },
        "id": "T0JjaIPk9ydr",
        "outputId": "236c3e09-95c1-445a-deac-11e41befc6b9"
      },
      "execution_count": null,
      "outputs": [
        {
          "output_type": "stream",
          "name": "stdout",
          "text": [
            "Requirement already satisfied: timetools in /usr/local/lib/python3.10/dist-packages (0.6.0)\n",
            "Requirement already satisfied: numpy in /usr/local/lib/python3.10/dist-packages (from timetools) (1.23.5)\n",
            "Requirement already satisfied: scipy in /usr/local/lib/python3.10/dist-packages (from timetools) (1.11.4)\n",
            "Requirement already satisfied: matplotlib in /usr/local/lib/python3.10/dist-packages (from timetools) (3.7.1)\n",
            "Requirement already satisfied: contourpy>=1.0.1 in /usr/local/lib/python3.10/dist-packages (from matplotlib->timetools) (1.2.0)\n",
            "Requirement already satisfied: cycler>=0.10 in /usr/local/lib/python3.10/dist-packages (from matplotlib->timetools) (0.12.1)\n",
            "Requirement already satisfied: fonttools>=4.22.0 in /usr/local/lib/python3.10/dist-packages (from matplotlib->timetools) (4.47.0)\n",
            "Requirement already satisfied: kiwisolver>=1.0.1 in /usr/local/lib/python3.10/dist-packages (from matplotlib->timetools) (1.4.5)\n",
            "Requirement already satisfied: packaging>=20.0 in /usr/local/lib/python3.10/dist-packages (from matplotlib->timetools) (23.2)\n",
            "Requirement already satisfied: pillow>=6.2.0 in /usr/local/lib/python3.10/dist-packages (from matplotlib->timetools) (9.4.0)\n",
            "Requirement already satisfied: pyparsing>=2.3.1 in /usr/local/lib/python3.10/dist-packages (from matplotlib->timetools) (3.1.1)\n",
            "Requirement already satisfied: python-dateutil>=2.7 in /usr/local/lib/python3.10/dist-packages (from matplotlib->timetools) (2.8.2)\n",
            "Requirement already satisfied: six>=1.5 in /usr/local/lib/python3.10/dist-packages (from python-dateutil>=2.7->matplotlib->timetools) (1.16.0)\n"
          ]
        }
      ]
    },
    {
      "cell_type": "code",
      "execution_count": null,
      "metadata": {
        "colab": {
          "base_uri": "https://localhost:8080/",
          "height": 1000
        },
        "id": "Pc3QpEN40Yfs",
        "outputId": "243fd3b7-c232-4060-b968-35515c1be4ae"
      },
      "outputs": [
        {
          "output_type": "stream",
          "name": "stdout",
          "text": [
            "Downloading http://yann.lecun.com/exdb/mnist/train-images-idx3-ubyte.gz\n",
            "Downloading http://yann.lecun.com/exdb/mnist/train-images-idx3-ubyte.gz to data/MNIST/raw/train-images-idx3-ubyte.gz\n"
          ]
        },
        {
          "output_type": "stream",
          "name": "stderr",
          "text": [
            "100%|██████████| 9912422/9912422 [00:00<00:00, 85694845.50it/s]\n"
          ]
        },
        {
          "output_type": "stream",
          "name": "stdout",
          "text": [
            "Extracting data/MNIST/raw/train-images-idx3-ubyte.gz to data/MNIST/raw\n",
            "\n",
            "Downloading http://yann.lecun.com/exdb/mnist/train-labels-idx1-ubyte.gz\n",
            "Downloading http://yann.lecun.com/exdb/mnist/train-labels-idx1-ubyte.gz to data/MNIST/raw/train-labels-idx1-ubyte.gz\n"
          ]
        },
        {
          "output_type": "stream",
          "name": "stderr",
          "text": [
            "100%|██████████| 28881/28881 [00:00<00:00, 91079469.04it/s]"
          ]
        },
        {
          "output_type": "stream",
          "name": "stdout",
          "text": [
            "Extracting data/MNIST/raw/train-labels-idx1-ubyte.gz to data/MNIST/raw\n",
            "\n",
            "Downloading http://yann.lecun.com/exdb/mnist/t10k-images-idx3-ubyte.gz\n",
            "Downloading http://yann.lecun.com/exdb/mnist/t10k-images-idx3-ubyte.gz to data/MNIST/raw/t10k-images-idx3-ubyte.gz\n"
          ]
        },
        {
          "output_type": "stream",
          "name": "stderr",
          "text": [
            "\n",
            "100%|██████████| 1648877/1648877 [00:00<00:00, 30653916.44it/s]\n"
          ]
        },
        {
          "output_type": "stream",
          "name": "stdout",
          "text": [
            "Extracting data/MNIST/raw/t10k-images-idx3-ubyte.gz to data/MNIST/raw\n",
            "\n",
            "Downloading http://yann.lecun.com/exdb/mnist/t10k-labels-idx1-ubyte.gz\n",
            "Downloading http://yann.lecun.com/exdb/mnist/t10k-labels-idx1-ubyte.gz to data/MNIST/raw/t10k-labels-idx1-ubyte.gz\n"
          ]
        },
        {
          "output_type": "stream",
          "name": "stderr",
          "text": [
            "100%|██████████| 4542/4542 [00:00<00:00, 13656293.02it/s]"
          ]
        },
        {
          "output_type": "stream",
          "name": "stdout",
          "text": [
            "Extracting data/MNIST/raw/t10k-labels-idx1-ubyte.gz to data/MNIST/raw\n",
            "\n"
          ]
        },
        {
          "output_type": "stream",
          "name": "stderr",
          "text": [
            "\n"
          ]
        },
        {
          "output_type": "stream",
          "name": "stdout",
          "text": [
            "Epoch 0\n",
            "Batch 3000: loss: 1.349100; acc: 47.23%; [ 3000/60000]; Time elapsed: 20.48 seconds\n",
            "Batch 6000: loss: 1.309161; acc: 56.93%; [ 6000/60000]; Time elapsed: 30.05 seconds\n",
            "Batch 9000: loss: 0.235748; acc: 65.09%; [ 9000/60000]; Time elapsed: 39.69 seconds\n",
            "Batch 12000: loss: 0.073318; acc: 69.78%; [12000/60000]; Time elapsed: 48.56 seconds\n",
            "Batch 15000: loss: 0.702707; acc: 73.07%; [15000/60000]; Time elapsed: 58.17 seconds\n",
            "Batch 18000: loss: 1.033744; acc: 75.14%; [18000/60000]; Time elapsed: 67.61 seconds\n",
            "Batch 21000: loss: 0.155134; acc: 76.90%; [21000/60000]; Time elapsed: 76.48 seconds\n",
            "Batch 24000: loss: 0.218602; acc: 78.33%; [24000/60000]; Time elapsed: 85.55 seconds\n",
            "Batch 27000: loss: 2.143360; acc: 79.49%; [27000/60000]; Time elapsed: 94.65 seconds\n",
            "Batch 30000: loss: 0.127057; acc: 80.45%; [30000/60000]; Time elapsed: 104.26 seconds\n",
            "Batch 33000: loss: 0.207317; acc: 81.32%; [33000/60000]; Time elapsed: 113.26 seconds\n",
            "Batch 36000: loss: 0.039837; acc: 82.10%; [36000/60000]; Time elapsed: 123.17 seconds\n",
            "Batch 39000: loss: 0.123627; acc: 82.69%; [39000/60000]; Time elapsed: 132.76 seconds\n",
            "Batch 42000: loss: 0.033520; acc: 83.16%; [42000/60000]; Time elapsed: 141.59 seconds\n",
            "Batch 45000: loss: 0.242116; acc: 83.66%; [45000/60000]; Time elapsed: 150.88 seconds\n",
            "Batch 48000: loss: 0.223490; acc: 84.09%; [48000/60000]; Time elapsed: 160.28 seconds\n",
            "Batch 51000: loss: 0.035226; acc: 84.50%; [51000/60000]; Time elapsed: 170.44 seconds\n",
            "Batch 54000: loss: 0.192976; acc: 84.81%; [54000/60000]; Time elapsed: 179.94 seconds\n",
            "Batch 57000: loss: 0.001850; acc: 85.15%; [57000/60000]; Time elapsed: 189.80 seconds\n",
            "accuracy:  [85.51%]\n",
            "Test Error: \n",
            " Accuracy: 91.9%, Avg loss: 0.271914; Time elapsed: 8.80 seconds\n",
            "\n",
            "Epoch 1\n",
            "Batch 3000: loss: 0.035540; acc: 91.63%; [ 3000/60000]; Time elapsed: 9.14 seconds\n",
            "Batch 6000: loss: 0.030297; acc: 91.77%; [ 6000/60000]; Time elapsed: 18.20 seconds\n",
            "Batch 9000: loss: 0.132771; acc: 92.00%; [ 9000/60000]; Time elapsed: 26.51 seconds\n",
            "Batch 12000: loss: 0.004890; acc: 92.09%; [12000/60000]; Time elapsed: 35.60 seconds\n",
            "Batch 15000: loss: 0.010472; acc: 92.11%; [15000/60000]; Time elapsed: 44.77 seconds\n",
            "Batch 18000: loss: 0.020856; acc: 92.17%; [18000/60000]; Time elapsed: 53.21 seconds\n",
            "Batch 21000: loss: 0.256041; acc: 92.24%; [21000/60000]; Time elapsed: 62.38 seconds\n",
            "Batch 24000: loss: 0.046210; acc: 92.32%; [24000/60000]; Time elapsed: 71.68 seconds\n",
            "Batch 27000: loss: 0.000105; acc: 92.43%; [27000/60000]; Time elapsed: 80.32 seconds\n",
            "Batch 30000: loss: 0.009708; acc: 92.44%; [30000/60000]; Time elapsed: 89.80 seconds\n",
            "Batch 33000: loss: 0.001850; acc: 92.45%; [33000/60000]; Time elapsed: 99.03 seconds\n",
            "Batch 36000: loss: 0.017108; acc: 92.50%; [36000/60000]; Time elapsed: 107.48 seconds\n",
            "Batch 39000: loss: 0.016833; acc: 92.59%; [39000/60000]; Time elapsed: 116.68 seconds\n",
            "Batch 42000: loss: 0.257160; acc: 92.63%; [42000/60000]; Time elapsed: 125.81 seconds\n",
            "Batch 45000: loss: 0.115674; acc: 92.67%; [45000/60000]; Time elapsed: 134.32 seconds\n",
            "Batch 48000: loss: 0.000723; acc: 92.72%; [48000/60000]; Time elapsed: 143.36 seconds\n",
            "Batch 51000: loss: 1.827302; acc: 92.75%; [51000/60000]; Time elapsed: 152.62 seconds\n",
            "Batch 54000: loss: 0.017619; acc: 92.77%; [54000/60000]; Time elapsed: 161.97 seconds\n",
            "Batch 57000: loss: 0.003027; acc: 92.84%; [57000/60000]; Time elapsed: 171.67 seconds\n",
            "accuracy:  [92.95%]\n",
            "Test Error: \n",
            " Accuracy: 94.5%, Avg loss: 0.180425; Time elapsed: 9.54 seconds\n",
            "\n",
            "Epoch 2\n",
            "Batch 3000: loss: 0.020167; acc: 94.20%; [ 3000/60000]; Time elapsed: 8.68 seconds\n",
            "Batch 6000: loss: 0.104500; acc: 94.23%; [ 6000/60000]; Time elapsed: 18.65 seconds\n",
            "Batch 9000: loss: 0.606773; acc: 94.39%; [ 9000/60000]; Time elapsed: 27.89 seconds\n",
            "Batch 12000: loss: 0.023722; acc: 94.45%; [12000/60000]; Time elapsed: 36.58 seconds\n",
            "Batch 15000: loss: 0.003815; acc: 94.46%; [15000/60000]; Time elapsed: 45.68 seconds\n",
            "Batch 18000: loss: 0.001732; acc: 94.61%; [18000/60000]; Time elapsed: 54.84 seconds\n",
            "Batch 21000: loss: 1.607679; acc: 94.56%; [21000/60000]; Time elapsed: 63.43 seconds\n",
            "Batch 24000: loss: 0.017735; acc: 94.54%; [24000/60000]; Time elapsed: 72.70 seconds\n",
            "Batch 27000: loss: 0.006610; acc: 94.57%; [27000/60000]; Time elapsed: 81.94 seconds\n",
            "Batch 30000: loss: 0.022968; acc: 94.57%; [30000/60000]; Time elapsed: 90.61 seconds\n",
            "Batch 33000: loss: 0.054850; acc: 94.61%; [33000/60000]; Time elapsed: 99.84 seconds\n",
            "Batch 36000: loss: 0.168584; acc: 94.61%; [36000/60000]; Time elapsed: 109.11 seconds\n",
            "Batch 39000: loss: 0.004810; acc: 94.67%; [39000/60000]; Time elapsed: 117.86 seconds\n",
            "Batch 42000: loss: 0.890897; acc: 94.65%; [42000/60000]; Time elapsed: 127.50 seconds\n",
            "Batch 45000: loss: 0.000235; acc: 94.67%; [45000/60000]; Time elapsed: 136.84 seconds\n",
            "Batch 48000: loss: 0.289249; acc: 94.68%; [48000/60000]; Time elapsed: 145.48 seconds\n",
            "Batch 51000: loss: 0.064990; acc: 94.70%; [51000/60000]; Time elapsed: 154.49 seconds\n",
            "Batch 54000: loss: 0.010412; acc: 94.71%; [54000/60000]; Time elapsed: 163.84 seconds\n",
            "Batch 57000: loss: 0.012982; acc: 94.76%; [57000/60000]; Time elapsed: 172.56 seconds\n",
            "accuracy:  [94.80%]\n",
            "Test Error: \n",
            " Accuracy: 95.8%, Avg loss: 0.141682; Time elapsed: 9.64 seconds\n",
            "\n",
            "Epoch 3\n",
            "Batch 3000: loss: 0.001397; acc: 95.40%; [ 3000/60000]; Time elapsed: 8.78 seconds\n",
            "Batch 6000: loss: 0.013241; acc: 95.57%; [ 6000/60000]; Time elapsed: 18.32 seconds\n",
            "Batch 9000: loss: 0.040943; acc: 95.57%; [ 9000/60000]; Time elapsed: 27.27 seconds\n",
            "Batch 12000: loss: 0.020226; acc: 95.57%; [12000/60000]; Time elapsed: 35.74 seconds\n",
            "Batch 15000: loss: 0.000230; acc: 95.61%; [15000/60000]; Time elapsed: 45.01 seconds\n",
            "Batch 18000: loss: 0.000954; acc: 95.72%; [18000/60000]; Time elapsed: 55.08 seconds\n",
            "Batch 21000: loss: 0.000107; acc: 95.64%; [21000/60000]; Time elapsed: 65.20 seconds\n",
            "Batch 24000: loss: 0.994178; acc: 95.67%; [24000/60000]; Time elapsed: 74.11 seconds\n",
            "Batch 27000: loss: 0.000432; acc: 95.73%; [27000/60000]; Time elapsed: 83.31 seconds\n",
            "Batch 30000: loss: 0.010872; acc: 95.74%; [30000/60000]; Time elapsed: 92.19 seconds\n",
            "Batch 33000: loss: 0.062317; acc: 95.72%; [33000/60000]; Time elapsed: 100.73 seconds\n",
            "Batch 36000: loss: 0.008724; acc: 95.74%; [36000/60000]; Time elapsed: 109.82 seconds\n",
            "Batch 39000: loss: 0.003345; acc: 95.77%; [39000/60000]; Time elapsed: 119.42 seconds\n",
            "Batch 42000: loss: 0.017328; acc: 95.80%; [42000/60000]; Time elapsed: 127.72 seconds\n",
            "Batch 45000: loss: 0.005753; acc: 95.78%; [45000/60000]; Time elapsed: 136.69 seconds\n",
            "Batch 48000: loss: 0.010021; acc: 95.78%; [48000/60000]; Time elapsed: 145.68 seconds\n",
            "Batch 51000: loss: 0.000442; acc: 95.80%; [51000/60000]; Time elapsed: 154.77 seconds\n",
            "Batch 54000: loss: 0.000850; acc: 95.82%; [54000/60000]; Time elapsed: 163.72 seconds\n",
            "Batch 57000: loss: 0.002231; acc: 95.83%; [57000/60000]; Time elapsed: 172.59 seconds\n",
            "accuracy:  [95.83%]\n",
            "Test Error: \n",
            " Accuracy: 96.4%, Avg loss: 0.115156; Time elapsed: 9.69 seconds\n",
            "\n",
            "Epoch 4\n",
            "Batch 3000: loss: 0.003389; acc: 97.13%; [ 3000/60000]; Time elapsed: 8.84 seconds\n",
            "Batch 6000: loss: 0.004431; acc: 96.80%; [ 6000/60000]; Time elapsed: 17.24 seconds\n",
            "Batch 9000: loss: 0.273228; acc: 96.63%; [ 9000/60000]; Time elapsed: 26.63 seconds\n",
            "Batch 12000: loss: 0.003698; acc: 96.54%; [12000/60000]; Time elapsed: 36.38 seconds\n",
            "Batch 15000: loss: 0.099819; acc: 96.57%; [15000/60000]; Time elapsed: 46.06 seconds\n",
            "Batch 18000: loss: 0.002678; acc: 96.49%; [18000/60000]; Time elapsed: 55.72 seconds\n",
            "Batch 21000: loss: 0.001931; acc: 96.39%; [21000/60000]; Time elapsed: 64.64 seconds\n",
            "Batch 24000: loss: 0.001028; acc: 96.35%; [24000/60000]; Time elapsed: 73.03 seconds\n",
            "Batch 27000: loss: 0.000952; acc: 96.33%; [27000/60000]; Time elapsed: 81.69 seconds\n",
            "Batch 30000: loss: 0.000411; acc: 96.36%; [30000/60000]; Time elapsed: 90.57 seconds\n",
            "Batch 33000: loss: 0.005279; acc: 96.42%; [33000/60000]; Time elapsed: 99.19 seconds\n",
            "Batch 36000: loss: 0.000826; acc: 96.39%; [36000/60000]; Time elapsed: 108.69 seconds\n",
            "Batch 39000: loss: 0.021381; acc: 96.40%; [39000/60000]; Time elapsed: 118.35 seconds\n",
            "Batch 42000: loss: 0.011356; acc: 96.44%; [42000/60000]; Time elapsed: 129.41 seconds\n",
            "Batch 45000: loss: 0.482797; acc: 96.47%; [45000/60000]; Time elapsed: 139.08 seconds\n",
            "Batch 48000: loss: 0.004039; acc: 96.43%; [48000/60000]; Time elapsed: 148.15 seconds\n",
            "Batch 51000: loss: 0.001736; acc: 96.47%; [51000/60000]; Time elapsed: 157.43 seconds\n",
            "Batch 54000: loss: 0.005726; acc: 96.47%; [54000/60000]; Time elapsed: 166.73 seconds\n",
            "Batch 57000: loss: 0.069739; acc: 96.50%; [57000/60000]; Time elapsed: 175.64 seconds\n",
            "accuracy:  [96.51%]\n",
            "Test Error: \n",
            " Accuracy: 96.9%, Avg loss: 0.100696; Time elapsed: 9.37 seconds\n",
            "\n",
            "Epoch 5\n",
            "Batch 3000: loss: 0.016642; acc: 96.83%; [ 3000/60000]; Time elapsed: 9.67 seconds\n",
            "Batch 6000: loss: 0.017474; acc: 96.53%; [ 6000/60000]; Time elapsed: 19.24 seconds\n",
            "Batch 9000: loss: 0.000609; acc: 96.63%; [ 9000/60000]; Time elapsed: 27.96 seconds\n",
            "Batch 12000: loss: 0.000249; acc: 96.65%; [12000/60000]; Time elapsed: 36.18 seconds\n",
            "Batch 15000: loss: 0.693714; acc: 96.79%; [15000/60000]; Time elapsed: 45.14 seconds\n",
            "Batch 18000: loss: 0.011023; acc: 96.84%; [18000/60000]; Time elapsed: 54.25 seconds\n",
            "Batch 21000: loss: 1.097942; acc: 96.83%; [21000/60000]; Time elapsed: 62.76 seconds\n",
            "Batch 24000: loss: 0.026077; acc: 96.84%; [24000/60000]; Time elapsed: 71.68 seconds\n",
            "Batch 27000: loss: 0.020684; acc: 96.82%; [27000/60000]; Time elapsed: 80.56 seconds\n",
            "Batch 30000: loss: 0.023541; acc: 96.81%; [30000/60000]; Time elapsed: 89.39 seconds\n",
            "Batch 33000: loss: 0.000008; acc: 96.82%; [33000/60000]; Time elapsed: 98.63 seconds\n",
            "Batch 36000: loss: 0.009910; acc: 96.82%; [36000/60000]; Time elapsed: 108.16 seconds\n",
            "Batch 39000: loss: 0.002093; acc: 96.83%; [39000/60000]; Time elapsed: 116.48 seconds\n",
            "Batch 42000: loss: 0.005986; acc: 96.83%; [42000/60000]; Time elapsed: 125.38 seconds\n",
            "Batch 45000: loss: 0.013711; acc: 96.84%; [45000/60000]; Time elapsed: 134.91 seconds\n",
            "Batch 48000: loss: 0.000583; acc: 96.85%; [48000/60000]; Time elapsed: 143.47 seconds\n",
            "Batch 51000: loss: 0.002303; acc: 96.84%; [51000/60000]; Time elapsed: 152.77 seconds\n",
            "Batch 54000: loss: 0.005399; acc: 96.84%; [54000/60000]; Time elapsed: 162.31 seconds\n",
            "Batch 57000: loss: 0.001383; acc: 96.84%; [57000/60000]; Time elapsed: 172.15 seconds\n",
            "accuracy:  [96.86%]\n",
            "Test Error: \n",
            " Accuracy: 96.9%, Avg loss: 0.097802; Time elapsed: 9.58 seconds\n",
            "\n"
          ]
        },
        {
          "output_type": "display_data",
          "data": {
            "text/plain": [
              "<Figure size 800x600 with 1 Axes>"
            ],
            "image/png": "[encoded data removed]"
          },
          "metadata": {}
        }
      ],
      "source": [
        "import os\n",
        "import torch\n",
        "import numpy as np\n",
        "import matplotlib.pyplot as plt\n",
        "from torch.utils.data import DataLoader\n",
        "from torchvision import datasets, transforms\n",
        "import time\n",
        "\n",
        "# Specify the path where MNIST will be downloaded\n",
        "data_path = 'data'\n",
        "\n",
        "# Create DataLoaders\n",
        "batch_size = 1\n",
        "train_loader = DataLoader(\n",
        "    datasets.MNIST(data_path, train=True, transform=transforms.Compose([\n",
        "        transforms.Resize((10, 10)),\n",
        "        transforms.Grayscale(),\n",
        "        transforms.ToTensor(),\n",
        "        transforms.Normalize((0,), (1,)),\n",
        "    ]), download=True),\n",
        "    batch_size=batch_size, shuffle=True, num_workers=0\n",
        ")\n",
        "test_loader = DataLoader(\n",
        "    datasets.MNIST(data_path, train=False, transform=transforms.Compose([\n",
        "        transforms.Resize((10, 10)),\n",
        "        transforms.Grayscale(),\n",
        "        transforms.ToTensor(),\n",
        "        transforms.Normalize((0,), (1,)),\n",
        "    ]), download=True),\n",
        "    batch_size=batch_size, shuffle=True, num_workers=0\n",
        ")\n",
        "\n",
        "# RC system RNN based on LTP.\n",
        "# seed\n",
        "seed = 70\n",
        "# savefile path\n",
        "save_path = 'ltp\\\\result'\n",
        "# dataset path\n",
        "data_path = 'data'\n",
        "# network settings\n",
        "num_epochs = 10\n",
        "\n",
        "# noise standard deviation\n",
        "sigma = 0.15  # [0,0.5)\n",
        "# -----------------------------------------------------------#\n",
        "device = torch.device(\"cuda\" if torch.cuda.is_available() else \"cpu\")\n",
        "cpu = torch.device(\"cpu\")\n",
        "\n",
        "torch.manual_seed(seed)\n",
        "torch.cuda.manual_seed(seed)\n",
        "np.random.seed(seed)\n",
        "\n",
        "\n",
        "def data_pre_process(data):\n",
        "    data = data.numpy().astype('float64')\n",
        "    new_data = []\n",
        "    VS = np.ones((10,), np.float64)  # Change the size to 10\n",
        "    for VGs in data:\n",
        "        Imin = tft(np.zeros((10,), np.float64), VS).ID[-1]  # Change the size to 10\n",
        "        Imax = tft(np.ones((10,), np.float64), VS).ID[-1]  # Change the size to 10\n",
        "        rc = (tft_rc(VGs, VS) - Imin) / (Imax - Imin) + 0.001\n",
        "        new_data.append(rc)\n",
        "    new_data = torch.from_numpy(np.array(new_data))\n",
        "    return new_data\n",
        "\n",
        "\n",
        "class Network(torch.nn.Module):\n",
        "    def __init__(self):\n",
        "        super(Network, self).__init__()\n",
        "        self.fc1 = torch.nn.Linear(100, 1024)  # Adjust input size to 10x10\n",
        "        self.fc_hidden = torch.nn.Linear(1024, 1024)\n",
        "        self.fc2 = torch.nn.Linear(1024, 10)\n",
        "\n",
        "    def forward(self, x):\n",
        "        x = x.view(-1, 100)  # Adjust input size to 10x10\n",
        "        x = torch.relu(self.fc1(x))\n",
        "        x = torch.relu(self.fc_hidden(x))\n",
        "        x = self.fc2(x)\n",
        "        return x\n",
        "\n",
        "\n",
        "def train_loop(dataloader):\n",
        "    size = len(dataloader.dataset)\n",
        "    train_loss = 0.\n",
        "    train_acc = 0.\n",
        "    start_time = time.time()\n",
        "    for batch, (x, label) in enumerate(dataloader):\n",
        "        out = model(x).to(cpu)\n",
        "        label_pred = torch.argmax(out, dim=1)\n",
        "        loss = loss_fn(out, label)\n",
        "        train_loss += loss.item()\n",
        "        train_correct = (label_pred == label).sum()\n",
        "        train_acc += train_correct.item()\n",
        "\n",
        "        optimizer.zero_grad()\n",
        "        loss.backward()\n",
        "        optimizer.step()\n",
        "\n",
        "        if batch % (size // 20) == 0 and batch != 0:\n",
        "            current = batch * len(x)\n",
        "            elapsed_time = time.time() - start_time\n",
        "            print(f\"Batch {batch}: loss: {loss.item():>7f}; acc: {train_acc / current * 100:.2f}%; \"\n",
        "                  f\"[{current:>5d}/{size:>5d}]; Time elapsed: {elapsed_time:.2f} seconds\")\n",
        "\n",
        "    print(f\"accuracy:  [{train_acc / size * 100:.2f}%]\")\n",
        "    return train_loss\n",
        "\n",
        "\n",
        "def test_loop(dataloader):\n",
        "    size = len(dataloader.dataset)\n",
        "    num_batches = len(dataloader)\n",
        "    test_loss, correct = 0, 0\n",
        "    start_time = time.time()\n",
        "\n",
        "    test_accuracy = []\n",
        "    with torch.no_grad():\n",
        "        for x, label in dataloader:\n",
        "            out = model(x).to(cpu)\n",
        "            label_pred = torch.argmax(out, dim=1)\n",
        "            loss = loss_fn(out, label)\n",
        "\n",
        "            test_loss += loss.item()\n",
        "            test_correct = (label_pred == label).sum()\n",
        "            correct += test_correct.item()\n",
        "\n",
        "        accuracy = correct / size\n",
        "        test_accuracy.append(accuracy)\n",
        "        elapsed_time = time.time() - start_time\n",
        "        print(f\"Test Error: \\n Accuracy: {(100 * accuracy):>0.1f}%, Avg loss: {test_loss / num_batches:>8f}; \"\n",
        "              f\"Time elapsed: {elapsed_time:.2f} seconds\\n\")\n",
        "\n",
        "    return test_accuracy\n",
        "\n",
        "\n",
        "model = Network().to(device)\n",
        "learning_rate = 2e-3\n",
        "loss_fn = torch.nn.CrossEntropyLoss()\n",
        "optimizer = torch.optim.SGD(model.parameters(), lr=learning_rate)\n",
        "\n",
        "if __name__ == '__main__':\n",
        "    os.makedirs(save_path, exist_ok=True)\n",
        "\n",
        "    # Training loop for 10x10 MNIST data\n",
        "    train_loss_count_10 = []\n",
        "    test_accuracy_10 = []\n",
        "\n",
        "    for t in range(num_epochs + 1):\n",
        "        print(f'Epoch {t}')\n",
        "        train_loss_count_10.append(train_loop(train_loader))\n",
        "        test_accuracy_10.append(test_loop(test_loader))\n",
        "\n",
        "    # Plot accuracy versus epochs\n",
        "    plt.figure(figsize=(8, 6))\n",
        "    epochs = range(num_epochs + 1)\n",
        "\n",
        "    plt.plot(epochs, test_accuracy_10, label='Accuracy 10x10')\n",
        "    plt.xlabel('Epochs')\n",
        "    plt.ylabel('Accuracy')\n",
        "    plt.legend()\n",
        "    plt.title('Accuracy vs Epochs for 10x10 MNIST')\n",
        "    plt.show()"
      ]
    }
  ],
  "metadata": {
    "colab": {
      "provenance": []
    },
    "kernelspec": {
      "display_name": "Python 3",
      "name": "python3"
    },
    "language_info": {
      "name": "python"
    }
  },
  "nbformat": 4,
  "nbformat_minor": 0
}